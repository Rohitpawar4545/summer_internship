{
 "cells": [
  {
   "cell_type": "code",
   "execution_count": 14,
   "id": "477cf51c-2199-4fb7-87de-b3d4eeb4ae31",
   "metadata": {},
   "outputs": [],
   "source": [
    "import boto3\n",
    "import time\n",
    "from botocore.exceptions import ClientError, WaiterError\n",
    "\n",
    "# --------- CONFIG ---------\n",
    "region = \"ap-south-1\"  # Mumbai region\n",
    "ami_id = \"ami-0d0ad8bXXXXXb745\"  # Replace if required\n",
    "instance_type = \"t2.micro\"\n",
    "key_name = \"project_2\"  # Your key pair name\n",
    "security_group_id = \"sg-0b4772XXXXX78b7\"  # Your security group ID\n",
    "\n",
    "# Create EC2 client\n",
    "ec2 = boto3.client(\"ec2\", region_name=region)\n",
    "\n",
    "# --------- LAUNCH EC2 ---------\n",
    "def launch_instance():\n",
    "    print(\"Launching EC2 instance...\")\n",
    "    try:\n",
    "        response = ec2.run_instances(\n",
    "            ImageId=ami_id,\n",
    "            InstanceType=instance_type,\n",
    "            KeyName=key_name,\n",
    "            MaxCount=1,\n",
    "            MinCount=1,\n",
    "            SecurityGroupIds=[security_group_id],\n",
    "            TagSpecifications=[\n",
    "                {\n",
    "                    \"ResourceType\": \"instance\",\n",
    "                    \"Tags\": [{\"Key\": \"Name\", \"Value\": \"MyInstance\"}]\n",
    "                }\n",
    "            ]\n",
    "        )\n",
    "    except ClientError as e:\n",
    "        print(f\"Error launching instance: {e}\")\n",
    "        return None\n",
    "\n",
    "    instance_id = response['Instances'][0]['InstanceId']\n",
    "    print(f\"Instance launched with ID: {instance_id}\")\n",
    "\n",
    "    print(\"Waiting for instance to be in 'running' state...\")\n",
    "    waiter = ec2.get_waiter('instance_running')\n",
    "    waiter.wait(InstanceIds=[instance_id])\n",
    "    print(\"Instance is running.\")\n",
    "\n",
    "    # Get public IP\n",
    "    public_ip = get_public_ip(instance_id)\n",
    "    if public_ip:\n",
    "        print(f\"Public IP: {public_ip}\")\n",
    "\n",
    "    return instance_id\n",
    "\n",
    "# Get Public IP\n",
    "def get_public_ip(instance_id):\n",
    "    try:\n",
    "        desc = ec2.describe_instances(InstanceIds=[instance_id])\n",
    "        return desc['Reservations'][0]['Instances'][0].get('PublicIpAddress')\n",
    "    except ClientError:\n",
    "        return None\n",
    "\n",
    "# --------- TERMINATE EC2 ---------\n",
    "def terminate_instance(instance_id):\n",
    "    print(f\"Terminating instance {instance_id}...\")\n",
    "    try:\n",
    "        ec2.terminate_instances(InstanceIds=[instance_id])\n",
    "        print(\"Waiting for instance to be terminated...\")\n",
    "        waiter = ec2.get_waiter('instance_terminated')\n",
    "        waiter.wait(InstanceIds=[instance_id])\n",
    "    except (ClientError, WaiterError) as e:\n",
    "        print(f\"Error terminating instance: {e}\")\n",
    "    print(\"Instance terminated.\")"
   ]
  },
  {
   "cell_type": "code",
   "execution_count": 10,
   "id": "0dd191ff-5bc1-4d25-84d4-c9ce7a64a123",
   "metadata": {},
   "outputs": [
    {
     "name": "stdout",
     "output_type": "stream",
     "text": [
      "Launching EC2 instance...\n",
      "Instance launched with ID: i-03edb97910e3f78db\n",
      "Waiting for instance to be in 'running' state...\n",
      "Instance is running.\n",
      "Public IP: 65.1.147.250\n"
     ]
    }
   ],
   "source": [
    "instance_id = launch_instance()"
   ]
  },
  {
   "cell_type": "code",
   "execution_count": 11,
   "id": "d492fc3c-e33b-45d7-9000-87515816b13d",
   "metadata": {},
   "outputs": [
    {
     "name": "stdout",
     "output_type": "stream",
     "text": [
      "Terminating instance i-03edb97910e3f78db...\n",
      "Waiting for instance to be terminated...\n",
      "Instance terminated.\n"
     ]
    }
   ],
   "source": [
    "terminate_instance(instance_id)"
   ]
  },
  {
   "cell_type": "code",
   "execution_count": null,
   "id": "4fac88ba-73b4-4372-ad55-dfa7f3c5f75c",
   "metadata": {},
   "outputs": [],
   "source": []
  },
  {
   "cell_type": "code",
   "execution_count": 12,
   "id": "e8bfba97-f50c-4405-9b9b-3b5b7a5b8cf0",
   "metadata": {},
   "outputs": [
    {
     "name": "stdout",
     "output_type": "stream",
     "text": [
      "Launching EC2 instance...\n",
      "Instance launched with ID: i-0371084f55b4df88b\n",
      "Waiting for instance to be in 'running' state...\n",
      "Instance is running.\n",
      "Public IP: 13.233.36.42\n"
     ]
    }
   ],
   "source": [
    "instance_id = launch_instance()"
   ]
  },
  {
   "cell_type": "code",
   "execution_count": 13,
   "id": "db3886e7-cecc-4ab4-bca3-89c2bd6e0c00",
   "metadata": {},
   "outputs": [
    {
     "name": "stdout",
     "output_type": "stream",
     "text": [
      "Terminating instance i-0371084f55b4df88b...\n",
      "Waiting for instance to be terminated...\n",
      "Instance terminated.\n"
     ]
    }
   ],
   "source": [
    "terminate_instance(instance_id)"
   ]
  },
  {
   "cell_type": "code",
   "execution_count": null,
   "id": "cb20fc17-beec-44c4-9cae-7a38643d1020",
   "metadata": {},
   "outputs": [],
   "source": []
  }
 ],
 "metadata": {
  "kernelspec": {
   "display_name": "Python [conda env:base] *",
   "language": "python",
   "name": "conda-base-py"
  },
  "language_info": {
   "codemirror_mode": {
    "name": "ipython",
    "version": 3
   },
   "file_extension": ".py",
   "mimetype": "text/x-python",
   "name": "python",
   "nbconvert_exporter": "python",
   "pygments_lexer": "ipython3",
   "version": "3.12.7"
  }
 },
 "nbformat": 4,
 "nbformat_minor": 5
}
