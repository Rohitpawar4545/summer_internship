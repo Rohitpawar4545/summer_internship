{
 "cells": [
  {
   "cell_type": "code",
   "execution_count": 1,
   "id": "1e7eee80-69f1-4b08-bcec-c788022fb373",
   "metadata": {},
   "outputs": [
    {
     "name": "stdout",
     "output_type": "stream",
     "text": [
      "Total RAM: 5.83 GB\n",
      "Available RAM: 0.90 GB\n",
      "Used RAM: 4.92 GB\n",
      "RAM Usage Percentage: 84.5%\n"
     ]
    }
   ],
   "source": [
    "import psutil\n",
    "\n",
    "# Get memory details\n",
    "memory = psutil.virtual_memory()\n",
    "\n",
    "print(f\"Total RAM: {memory.total / (1024 ** 3):.2f} GB\")\n",
    "print(f\"Available RAM: {memory.available / (1024 ** 3):.2f} GB\")\n",
    "print(f\"Used RAM: {memory.used / (1024 ** 3):.2f} GB\")\n",
    "print(f\"RAM Usage Percentage: {memory.percent}%\")"
   ]
  },
  {
   "cell_type": "code",
   "execution_count": null,
   "id": "0a469abe-cfcd-4d75-891e-015639731ed6",
   "metadata": {},
   "outputs": [],
   "source": []
  }
 ],
 "metadata": {
  "kernelspec": {
   "display_name": "Python [conda env:base] *",
   "language": "python",
   "name": "conda-base-py"
  },
  "language_info": {
   "codemirror_mode": {
    "name": "ipython",
    "version": 3
   },
   "file_extension": ".py",
   "mimetype": "text/x-python",
   "name": "python",
   "nbconvert_exporter": "python",
   "pygments_lexer": "ipython3",
   "version": "3.12.7"
  }
 },
 "nbformat": 4,
 "nbformat_minor": 5
}
