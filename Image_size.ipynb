{
 "cells": [
  {
   "cell_type": "code",
   "execution_count": 2,
   "id": "d4361137-9575-417c-a6eb-b81091eb995c",
   "metadata": {},
   "outputs": [],
   "source": [
    "from PIL import Image, ImageDraw, ImageFont\n",
    "\n",
    "# Image size (width, height)\n",
    "width, height = 800, 400\n",
    "\n",
    "# Create a new image with white background\n",
    "image = Image.new(\"RGB\", (width, height), color=(255, 255, 255))\n",
    "\n",
    "# Create a drawing object\n",
    "draw = ImageDraw.Draw(image)\n",
    "\n",
    "# Draw shapes\n",
    "draw.rectangle([(50, 50), (750, 350)], outline=\"blue\", width=5)\n",
    "draw.ellipse([(300, 100), (500, 300)], fill=\"lightblue\", outline=\"black\")\n",
    "\n",
    "# Add text\n",
    "text = \"Hello, Digital World!\"\n",
    "\n",
    "try:\n",
    "    font = ImageFont.truetype(\"arial.ttf\", size=40)\n",
    "except:\n",
    "    font = ImageFont.load_default()\n",
    "\n",
    "# Get text bounding box\n",
    "text_bbox = draw.textbbox((0, 0), text, font=font)\n",
    "text_width = text_bbox[2] - text_bbox[0]\n",
    "text_height = text_bbox[3] - text_bbox[1]\n",
    "\n",
    "# Calculate position to center text\n",
    "text_x = (width - text_width) // 2\n",
    "text_y = height - text_height - 30\n",
    "\n",
    "# Draw text\n",
    "draw.text((text_x, text_y), text, fill=\"black\", font=font)\n",
    "\n",
    "# Save the image\n",
    "image.save(\"my_custom_image.png\")\n",
    "\n",
    "# Show the image\n",
    "image.show()"
   ]
  },
  {
   "cell_type": "code",
   "execution_count": null,
   "id": "a87cb81e-819b-4e1c-bf12-29eac95db0d5",
   "metadata": {},
   "outputs": [],
   "source": []
  }
 ],
 "metadata": {
  "kernelspec": {
   "display_name": "Python [conda env:base] *",
   "language": "python",
   "name": "conda-base-py"
  },
  "language_info": {
   "codemirror_mode": {
    "name": "ipython",
    "version": 3
   },
   "file_extension": ".py",
   "mimetype": "text/x-python",
   "name": "python",
   "nbconvert_exporter": "python",
   "pygments_lexer": "ipython3",
   "version": "3.12.7"
  }
 },
 "nbformat": 4,
 "nbformat_minor": 5
}
